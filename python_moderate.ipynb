{
 "cells": [
  {
   "cell_type": "code",
   "execution_count": 1,
   "metadata": {},
   "outputs": [
    {
     "name": "stdout",
     "output_type": "stream",
     "text": [
      "Enter the number5\n",
      "5 * 1 = 5 \n",
      "5 * 2 = 10 \n",
      "5 * 3 = 15 \n",
      "5 * 4 = 20 \n",
      "5 * 5 = 25 \n",
      "5 * 6 = 30 \n",
      "5 * 7 = 35 \n",
      "5 * 8 = 40 \n",
      "5 * 9 = 45 \n",
      "5 * 10 = 50 \n"
     ]
    }
   ],
   "source": [
    "#Q1:Write a function that inputs a number and prints the multiplication table of that number\n",
    "def multilpy(aa):\n",
    "    count=1\n",
    "    for i in range(1,11):\n",
    "        mul=ab*count\n",
    "        count+=1\n",
    "        print(\"{} * {} = {} \".format(ab,i,mul))\n",
    "\n",
    "ab= int(input(\"Enter the number\"))\n",
    "multi=multilpy(ab)\n",
    "    "
   ]
  },
  {
   "cell_type": "code",
   "execution_count": 35,
   "metadata": {},
   "outputs": [
    {
     "name": "stdout",
     "output_type": "stream",
     "text": [
      "3 and 5\n",
      "5 and 7\n",
      "11 and 13\n",
      "17 and 19\n",
      "29 and 31\n",
      "41 and 43\n",
      "59 and 61\n",
      "71 and 73\n",
      "101 and 103\n",
      "107 and 109\n",
      "137 and 139\n",
      "149 and 151\n",
      "179 and 181\n",
      "191 and 193\n",
      "197 and 199\n",
      "227 and 229\n",
      "239 and 241\n",
      "269 and 271\n",
      "281 and 283\n",
      "311 and 313\n",
      "347 and 349\n",
      "419 and 421\n",
      "431 and 433\n",
      "461 and 463\n",
      "521 and 523\n",
      "569 and 571\n",
      "599 and 601\n",
      "617 and 619\n",
      "641 and 643\n",
      "659 and 661\n",
      "809 and 811\n",
      "821 and 823\n",
      "827 and 829\n",
      "857 and 859\n",
      "881 and 883\n"
     ]
    }
   ],
   "source": [
    "#Q2:Write a program to print twin primes less than 1000. If two consecutive odd numbers areboth prime then they are known as twin primes\n",
    "def prime(m):\n",
    "    for i in range(2,m):\n",
    "        if(m%i==0):\n",
    "            return False\n",
    "    return True\n",
    "    \n",
    "def no(y):\n",
    "    for i in range(2,y):\n",
    "        j = i+2\n",
    "        if(prime(i) and prime(j)):\n",
    "            print (i,'and',j)\n",
    "no(1000)\n",
    "        "
   ]
  },
  {
   "cell_type": "code",
   "execution_count": 3,
   "metadata": {},
   "outputs": [
    {
     "name": "stdout",
     "output_type": "stream",
     "text": [
      "Enter a number56\n",
      "[2, 2, 2, 7]\n"
     ]
    }
   ],
   "source": [
    "#Q3: Write a program to find out the prime factors of a number. Example: prime factors of 56 -2, 2, 2, 7\n",
    "num=int(input(\"Enter a number\"))\n",
    "i=2\n",
    "insert=list()\n",
    "while i<=num:\n",
    "    if num%i==0:\n",
    "        value=num/i\n",
    "        insert.append(i)\n",
    "        num=value\n",
    "    else:\n",
    "        num%i!=0\n",
    "        i+=1\n",
    "print(insert)"
   ]
  },
  {
   "cell_type": "code",
   "execution_count": 4,
   "metadata": {},
   "outputs": [
    {
     "name": "stdout",
     "output_type": "stream",
     "text": [
      "Enter the value9\n",
      "Enter the value2\n",
      "The permutaion is 72.0 and the combination is 36.0 \n"
     ]
    }
   ],
   "source": [
    "#@4:Write a program to implement these formulae of permutations and combinations.\n",
    "#Number of permutations of n objects taken r at a time: p(n, r) = n! / (n-r)!. \n",
    "#Number ofcombinations of n objects taken r at a time is: c(n, r) = n! / (r!*(n-r)!) = p(n,r) / r!\n",
    "def fact(n):\n",
    "    if (n==0):\n",
    "        return 1\n",
    "    return n*fact(n-1)\n",
    "def Per(n,r):\n",
    "    return fact(n)/fact(n-r)\n",
    "def com(n,r):\n",
    "    return Per(n,r)/fact(r)\n",
    "value=int(input(\"Enter the value\"))\n",
    "la=int(input(\"Enter the value\"))\n",
    "permutation=Per(value,la)\n",
    "combination=com(value,la)\n",
    "print(\"The permutaion is {} and the combination is {} \".format(permutation,combination))"
   ]
  },
  {
   "cell_type": "code",
   "execution_count": 5,
   "metadata": {},
   "outputs": [
    {
     "name": "stdout",
     "output_type": "stream",
     "text": [
      "Enter the number56\n",
      "[1, 1, 0, 0, 0]\n"
     ]
    }
   ],
   "source": [
    "#Q5:Write a function that converts a decimal number to binary number\n",
    "def decimal(n):\n",
    "    lst=list()\n",
    "    j=2\n",
    "    while j<=n:\n",
    "        if n%2==0:\n",
    "            i=0\n",
    "            lst.append(i)\n",
    "            n=n/2\n",
    "        if n%2!=0:\n",
    "            i=1\n",
    "            lst.append(i)\n",
    "            n=n//2\n",
    "        if n==1:\n",
    "            break\n",
    "    return lst\n",
    "\n",
    "value=int(input(\"Enter the number\"))\n",
    "kl=decimal(value)\n",
    "kl.reverse()\n",
    "print(kl)"
   ]
  },
  {
   "cell_type": "code",
   "execution_count": 7,
   "metadata": {},
   "outputs": [
    {
     "name": "stdout",
     "output_type": "stream",
     "text": [
      "Enter a number564\n",
      "not a armstrong number\n"
     ]
    }
   ],
   "source": [
    "#Q6:Write a function cubesum() that accepts an integer and returns the sum of the cubes of\n",
    "#individual digits of that number. Use this function to make functions PrintArmstrong() and\n",
    "#isArmstrong() to print Armstrong numbers and to find whether is an Armstrong number.\n",
    "def cubesum(n):\n",
    "    sum=0\n",
    "    copy_n=n\n",
    "    kl=len(str(n))\n",
    "    while n>0:\n",
    "        sum=sum+(n%10)**kl\n",
    "        n=n//10\n",
    "    if sum==copy_n:\n",
    "        print(\"armstrong\",sum)\n",
    "    else:\n",
    "        print(\"not a armstrong number\")\n",
    "value=int(input(\"Enter a number\"))\n",
    "cubesum(value)"
   ]
  },
  {
   "cell_type": "code",
   "execution_count": 8,
   "metadata": {},
   "outputs": [
    {
     "name": "stdout",
     "output_type": "stream",
     "text": [
      "enter the number456\n",
      "The product of numbers is 120\n"
     ]
    }
   ],
   "source": [
    "#Q7:Write a function prodDigits() that inputs a number and returns the product of digits of thatnumber.\n",
    "def prodigit(n):\n",
    "    prod=1\n",
    "    while n>0:\n",
    "        prod*=(n%10)\n",
    "        n=n//10\n",
    "    return prod\n",
    "k=int(input(\"enter the number\"))\n",
    "l=prodigit(k)\n",
    "print(\"The product of numbers is\",l)"
   ]
  },
  {
   "cell_type": "code",
   "execution_count": 12,
   "metadata": {},
   "outputs": [
    {
     "name": "stdout",
     "output_type": "stream",
     "text": [
      "enter the number86\n",
      "MDB 6,MPersistence 3\n"
     ]
    }
   ],
   "source": [
    "#Q8:Using the function prodDigits() of previous exercise write functions MDR() and\n",
    "#MPersistence() that input a number and return its multiplicative digital root and\n",
    "#multiplicative persistence respectively\n",
    "def prodigit(n):\n",
    "    prod=1\n",
    "    while n>0:\n",
    "        prod*=(n%10)\n",
    "        n=n//10\n",
    "    return prod\n",
    "\n",
    "def MDB(l):\n",
    "    d=prodigit(l)\n",
    "    l=d\n",
    "    i=1\n",
    "    while d>10:\n",
    "        l=d\n",
    "        i+=1\n",
    "        d=prodigit(l)\n",
    "    return d,i\n",
    "k=int(input(\"enter the number\"))\n",
    "j,m=MDB(k)\n",
    "print(\"MDB {},MPersistence {}\".format(j,m))"
   ]
  },
  {
   "cell_type": "code",
   "execution_count": 13,
   "metadata": {},
   "outputs": [
    {
     "name": "stdout",
     "output_type": "stream",
     "text": [
      "Enter the number36\n",
      "[1, 2, 3, 4, 6, 9, 12, 18]\n"
     ]
    }
   ],
   "source": [
    "#Q9:Write a function sumPdivisors() that finds the sum of proper divisors of a number. Properdivisors of a number are those numbers by which the number is divisible, except the\n",
    "#number itself. For example proper divisors of 36 are 1, 2, 3, 4, 6, 9, 18\n",
    "def SumPdivisor(n):\n",
    "    lst=list()\n",
    "    for i in range(1,n):\n",
    "        if n%i==0:\n",
    "            lst.append(i)\n",
    "    return lst\n",
    "\n",
    "value=int(input(\"Enter the number\"))\n",
    "we=SumPdivisor(value)\n",
    "print(we)"
   ]
  },
  {
   "cell_type": "code",
   "execution_count": 15,
   "metadata": {},
   "outputs": [
    {
     "name": "stdout",
     "output_type": "stream",
     "text": [
      "Enter the number100\n",
      "6\n",
      "28\n"
     ]
    }
   ],
   "source": [
    "#Q10: A number is called perfect if the sum of proper divisors of that number is equal to thenumber. For example 28 is perfect number, since 1+2+4+7+14=28. Write a program to\n",
    "#print all the perfect numbers in a given range\n",
    "def SumPdivisor(n):\n",
    "    for k in range(6,n):\n",
    "        total=0\n",
    "        for i in range(1,k):\n",
    "            if k%i==0:\n",
    "                total+=i\n",
    "        if total==k:\n",
    "            print(k)\n",
    "\n",
    "value=int(input(\"Enter the number\"))\n",
    "SumPdivisor(value)"
   ]
  },
  {
   "cell_type": "code",
   "execution_count": 1,
   "metadata": {},
   "outputs": [
    {
     "name": "stdout",
     "output_type": "stream",
     "text": [
      "Enter the number10000\n",
      "220 284\n",
      "1184 1210\n",
      "2620 2924\n",
      "5020 5564\n",
      "6232 6368\n"
     ]
    }
   ],
   "source": [
    "#Q11:Two different numbers are called amicable numbers if the sum of the proper divisors ofeach is equal to the other number. For example 220 and 284 are amicable numbers.\n",
    "q=0\n",
    "def amicable(i):\n",
    "    time=0\n",
    "    for j in range(1,i):\n",
    "        if i%j==0:\n",
    "            time+=j\n",
    "    come=0\n",
    "    for k in range (1,time):\n",
    "        if time!=i:\n",
    "            if time%k==0:\n",
    "                come+=k\n",
    "    if come==i:\n",
    "        global q \n",
    "        q+=1\n",
    "        if q%2==0:\n",
    "            t=5\n",
    "        else:\n",
    "            print(come,time)\n",
    "\n",
    "def ami(l):\n",
    "    for i in range(220,l):\n",
    "        amicable(i)\n",
    "value=int(input(\"Enter the number\"))\n",
    "ami(value)\n"
   ]
  },
  {
   "cell_type": "code",
   "execution_count": 18,
   "metadata": {},
   "outputs": [
    {
     "name": "stdout",
     "output_type": "stream",
     "text": [
      "3\n",
      "9\n",
      "11\n",
      "13\n",
      "15\n"
     ]
    }
   ],
   "source": [
    "#Q12:Write a program which can filter odd numbers in a list by using filter function\n",
    "x=[3,2,9,11,13,15,20]\n",
    "def odd(n):\n",
    "    if n%2==0:\n",
    "        return False\n",
    "    if n%2!=0:\n",
    "        return True\n",
    "value=filter(odd,x)\n",
    "for i in value:\n",
    "    print(i)"
   ]
  },
  {
   "cell_type": "code",
   "execution_count": 19,
   "metadata": {},
   "outputs": [
    {
     "name": "stdout",
     "output_type": "stream",
     "text": [
      "[8, 729, 512, 343, 125, 64]\n"
     ]
    }
   ],
   "source": [
    "#Q13:Write a program which can map() to make a list whose elements are cube of elements ina given list\n",
    "x=[2,9,8,7,5,4]\n",
    "def cube(n):\n",
    "    return n**3\n",
    "input=map(cube,x)\n",
    "print(list(input))"
   ]
  },
  {
   "cell_type": "code",
   "execution_count": 30,
   "metadata": {},
   "outputs": [
    {
     "name": "stdout",
     "output_type": "stream",
     "text": [
      "[8, 512, 64, 512]\n"
     ]
    }
   ],
   "source": [
    "#Q14: Write a program which can map() and filter() to make a list whose elements are cube ofeven number in a given list\n",
    "nums=[3,5,2,9,8,4,8,7]\n",
    "even =list(filter(lambda n:n%2==0,nums ))\n",
    "double=list(map(lambda n:n**3,even))\n",
    "print(double)"
   ]
  },
  {
   "cell_type": "code",
   "execution_count": null,
   "metadata": {},
   "outputs": [],
   "source": []
  },
  {
   "cell_type": "code",
   "execution_count": null,
   "metadata": {},
   "outputs": [],
   "source": []
  }
 ],
 "metadata": {
  "kernelspec": {
   "display_name": "Python 3",
   "language": "python",
   "name": "python3"
  },
  "language_info": {
   "codemirror_mode": {
    "name": "ipython",
    "version": 3
   },
   "file_extension": ".py",
   "mimetype": "text/x-python",
   "name": "python",
   "nbconvert_exporter": "python",
   "pygments_lexer": "ipython3",
   "version": "3.8.3"
  }
 },
 "nbformat": 4,
 "nbformat_minor": 4
}
